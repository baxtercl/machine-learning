{
 "cells": [
  {
   "cell_type": "markdown",
   "metadata": {},
   "source": [
    "# Cargando las librerias requeridas"
   ]
  },
  {
   "cell_type": "markdown",
   "metadata": {},
   "source": [
    "# Tarea 1 (fecha de entrega 22 de Abril, 23:59:59 por webcursos)\n",
    "### Se permiten grupos de hasta 4 personas\n",
    "Para esta tarea analizaremos una base de datos de 21.613 casas y 21 variables (datosCasas.csv)."
   ]
  },
  {
   "cell_type": "code",
   "execution_count": null,
   "metadata": {},
   "outputs": [],
   "source": [
    "#Instalando las librerias requeridas\n",
    "# import sys\n",
    "# !{sys.executable} -m pip install numpy, pandas, plotnine, sklearn"
   ]
  },
  {
   "cell_type": "code",
   "execution_count": 1,
   "metadata": {},
   "outputs": [],
   "source": [
    "import numpy as np\n",
    "import pandas as pd\n",
    "from plotnine import *"
   ]
  },
  {
   "cell_type": "markdown",
   "metadata": {},
   "source": [
    "# Ejercicio 1 (1 punto)\n",
    "Cargue la base de datos, realice un proceso de limpieza y haga una selección de variables en forma justificada. En su selección descarte si o si las últimas 5 variables (zipcode, lat, long, sqft_living15, sqft_lot15)"
   ]
  },
  {
   "cell_type": "markdown",
   "metadata": {},
   "source": [
    "# Ejercicio 2, k-means (2 puntos)\n",
    "* Busque el mejor número de clusters utilizando el método del codo para k-means.\n",
    "* Aplique la clusterización usando el número de clusters seleccionados. \n",
    "* Describa los clusters encontrados, indicado las caracteristicas significativas de cada uno de ellas. \n",
    "* Aplique PCA y visualize los clusters encontrados. \n",
    "* Grafique cada una de las casas utilizando la latitud y longitud (utilice puntos de distintos colores según el cluster asignado). Revise si alguno de los clusters corresponde a alguna zona geógrafica en particular (si todos los puntos de un cluster se ven fuertemente agrupados en una sola zona)"
   ]
  },
  {
   "cell_type": "markdown",
   "metadata": {},
   "source": [
    "# Ejercicio 3, otro modelo (2 puntos)\n",
    "* Seleccione algún otro modelo entre DBScan, Hierarchical, y GMM\n",
    "* Busque el mejor número de clusters utilizando el método seleccionado.\n",
    "* Aplique la clusterización usando el número de clusters seleccionados. \n",
    "* Describa los clusters encontrados, indicado las caracteristicas significativas de cada uno de ellas. \n",
    "* Aplique PCA y visualize los clusters encontrados. \n",
    "* Grafique cada una de las casas utilizando la latitud y longitud (utilice puntos de distintos colores según el cluster asignado). Revise si alguno de los clusters corresponde a alguna zona geógrafica en particular (si todos los puntos de un cluster se ven fuertemente agrupados en una sola zona)"
   ]
  },
  {
   "cell_type": "markdown",
   "metadata": {},
   "source": [
    "# Ejercicio 4, comparación de resultados \n",
    "* Compare los clusters generados del ejercicio 2 y 3\n",
    "* Justifique cual de los dos métodos seleccionaría (podría ser ninguno o ambos) si quiere utilizar la clusterización obtenida para asignarle precios a las casas.\n",
    "* Atención: la selección puede ser basada tanto en medidas de evaluación para clusters como simplemente basado en los clusters obtenidos."
   ]
  },
  {
   "cell_type": "code",
   "execution_count": null,
   "metadata": {},
   "outputs": [],
   "source": []
  }
 ],
 "metadata": {
  "kernelspec": {
   "display_name": "Python 3",
   "language": "python",
   "name": "python3"
  },
  "language_info": {
   "codemirror_mode": {
    "name": "ipython",
    "version": 3
   },
   "file_extension": ".py",
   "mimetype": "text/x-python",
   "name": "python",
   "nbconvert_exporter": "python",
   "pygments_lexer": "ipython3",
   "version": "3.8.3"
  }
 },
 "nbformat": 4,
 "nbformat_minor": 4
}
