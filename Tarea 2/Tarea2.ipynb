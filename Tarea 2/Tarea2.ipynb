{
 "cells": [
  {
   "cell_type": "markdown",
   "metadata": {},
   "source": [
    "# Tarea 2 (fecha de entrega 06 de Mayo, 23:59:59 por webcursos)\n",
    "### Se permiten grupos de hasta 4 personas\n",
    "La NASA mantiene la información de varios cometas y después de un exhaustivo análisis ha determinado cuál de ellos es peligroso en caso de que choque a la tierra (variable Danger). Específicamente, han analizado en forma manual una muestra de 100.000 asteroides. Los datos consisten en 27 variables, con distinta información como por ejemplo nombre del asteroide, su periodo orbital, su periodo de rotación, etc. Todos los datos existentes, se encuentran en un puro archivo llamado tarea2Data.csv. Mientras que las descripciones de cada una de las variables se encuentran en el archivo tarea2Informacion.txt\n",
    "\n",
    "Desafortunadamente, la NASA todavía no ha evaluado 37.681 asteroides y no tienen tiempo para realizarlo. Por lo mismo, le piden que aplique modelos de Machine learning para obtener una evaluación de estos asteroides.\n",
    "\n",
    "1. Lea los datos y borre las variables/asteroides que estime necesario. En caso que crea que la base de datos todavía es demasiado grande para aplicar los modelos, usted puede tomar una muestra de la misma (1 punto).\n",
    "2. Aplique al menos 2 modelos de los vistos en clases (si quiere puede aplicar modelos de clustering y usarlos como clasificación) y realice una correcta comparación entre ellos. En este punto se evaluará la correcta selección de parámetros, como la correcta comparación entre los modelos seleccionados (4 puntos).\n",
    "3. Seleccione uno de los modelos del punto anterior y evalue los 37.681 asteroides que la NASA no ha evaluado. Se deberá generar un archivo csv con 37.681 filas, cada fila podrá ser False o True, donde False representa que el asteroide no es peligroso para la tierra (1 punto). \n",
    "\n",
    "El punto de evaluación final será una competencia entre todas las tareas basados en los f1-score (pos_label=\"True\") obtenido por cada grupo. El puntaje final será una regresión lineal entre el peor y mejor puntaje."
   ]
  },
  {
   "cell_type": "code",
   "execution_count": null,
   "metadata": {},
   "outputs": [],
   "source": []
  }
 ],
 "metadata": {
  "kernelspec": {
   "display_name": "Python 3",
   "language": "python",
   "name": "python3"
  },
  "language_info": {
   "codemirror_mode": {
    "name": "ipython",
    "version": 3
   },
   "file_extension": ".py",
   "mimetype": "text/x-python",
   "name": "python",
   "nbconvert_exporter": "python",
   "pygments_lexer": "ipython3",
   "version": "3.8.3"
  }
 },
 "nbformat": 4,
 "nbformat_minor": 4
}
